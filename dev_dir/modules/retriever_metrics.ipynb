{
 "cells": [
  {
   "cell_type": "markdown",
   "id": "a5cc430a-a4b6-4e01-b03d-227ede98d5c2",
   "metadata": {
    "tags": []
   },
   "source": [
    "### **data**"
   ]
  },
  {
   "cell_type": "code",
   "execution_count": 1,
   "id": "ff7871eb-2599-444f-90e1-66eab69a317f",
   "metadata": {},
   "outputs": [],
   "source": [
    "%%capture\n",
    "!pip install openpyxl"
   ]
  },
  {
   "cell_type": "code",
   "execution_count": 2,
   "id": "38e76e81-7925-4b79-a099-8e3da76e62dc",
   "metadata": {},
   "outputs": [],
   "source": [
    "import pandas as pd"
   ]
  },
  {
   "cell_type": "code",
   "execution_count": 3,
   "id": "0ce6da4e-64b2-46a2-bd0d-b519b00a2229",
   "metadata": {},
   "outputs": [
    {
     "data": {
      "text/html": [
       "<div>\n",
       "<style scoped>\n",
       "    .dataframe tbody tr th:only-of-type {\n",
       "        vertical-align: middle;\n",
       "    }\n",
       "\n",
       "    .dataframe tbody tr th {\n",
       "        vertical-align: top;\n",
       "    }\n",
       "\n",
       "    .dataframe thead th {\n",
       "        text-align: right;\n",
       "    }\n",
       "</style>\n",
       "<table border=\"1\" class=\"dataframe\">\n",
       "  <thead>\n",
       "    <tr style=\"text-align: right;\">\n",
       "      <th></th>\n",
       "      <th>Услуга</th>\n",
       "      <th>Вопрос</th>\n",
       "      <th>Ответ</th>\n",
       "    </tr>\n",
       "  </thead>\n",
       "  <tbody>\n",
       "    <tr>\n",
       "      <th>0</th>\n",
       "      <td>УЧЕТ01</td>\n",
       "      <td>Какие документы необходимо предоставить для по...</td>\n",
       "      <td>Для постановки на воинский учет при переезде н...</td>\n",
       "    </tr>\n",
       "    <tr>\n",
       "      <th>1</th>\n",
       "      <td>УЧЕТ01</td>\n",
       "      <td>Можно ли подать документы на воинский учет чер...</td>\n",
       "      <td>Нет, подача документов через доверенное лицо н...</td>\n",
       "    </tr>\n",
       "    <tr>\n",
       "      <th>2</th>\n",
       "      <td>УЧЕТ01</td>\n",
       "      <td>Каков срок, в течение которого должны быть вып...</td>\n",
       "      <td>Срок предоставления услуги по постановке на во...</td>\n",
       "    </tr>\n",
       "    <tr>\n",
       "      <th>3</th>\n",
       "      <td>УЧЕТ01</td>\n",
       "      <td>Какие документы выдаются в результате предоста...</td>\n",
       "      <td>В результате предоставления услуги могут быть ...</td>\n",
       "    </tr>\n",
       "    <tr>\n",
       "      <th>4</th>\n",
       "      <td>УЧЕТ01</td>\n",
       "      <td>Нужно ли предоставлять копию паспорта, если в ...</td>\n",
       "      <td>Да, необходимо предоставить копию паспорта РФ ...</td>\n",
       "    </tr>\n",
       "    <tr>\n",
       "      <th>...</th>\n",
       "      <td>...</td>\n",
       "      <td>...</td>\n",
       "      <td>...</td>\n",
       "    </tr>\n",
       "    <tr>\n",
       "      <th>415</th>\n",
       "      <td>СПРАВКА10</td>\n",
       "      <td>Может ли вдова, вступившая в новый брак, прете...</td>\n",
       "      <td>Нет, вдова, вступившая в новый брак, не может ...</td>\n",
       "    </tr>\n",
       "    <tr>\n",
       "      <th>416</th>\n",
       "      <td>СПРАВКА10</td>\n",
       "      <td>До какого возраста дети могут получать компенс...</td>\n",
       "      <td>Дети в возрасте до 23 лет, обучающиеся в образ...</td>\n",
       "    </tr>\n",
       "    <tr>\n",
       "      <th>417</th>\n",
       "      <td>СПРАВКА10</td>\n",
       "      <td>Какие документы подтверждают родство при обращ...</td>\n",
       "      <td>Документы, подтверждающие родство, могут включ...</td>\n",
       "    </tr>\n",
       "    <tr>\n",
       "      <th>418</th>\n",
       "      <td>СПРАВКА10</td>\n",
       "      <td>Каковы причины, по которым может быть выдан от...</td>\n",
       "      <td>Отказ в выдаче справки может быть обусловлен о...</td>\n",
       "    </tr>\n",
       "    <tr>\n",
       "      <th>419</th>\n",
       "      <td>СПРАВКА10</td>\n",
       "      <td>Можно ли подать заявление на получение компенс...</td>\n",
       "      <td>Да, заявление на получение компенсационных вып...</td>\n",
       "    </tr>\n",
       "  </tbody>\n",
       "</table>\n",
       "<p>420 rows × 3 columns</p>\n",
       "</div>"
      ],
      "text/plain": [
       "        Услуга                                             Вопрос  \\\n",
       "0       УЧЕТ01  Какие документы необходимо предоставить для по...   \n",
       "1       УЧЕТ01  Можно ли подать документы на воинский учет чер...   \n",
       "2       УЧЕТ01  Каков срок, в течение которого должны быть вып...   \n",
       "3       УЧЕТ01  Какие документы выдаются в результате предоста...   \n",
       "4       УЧЕТ01  Нужно ли предоставлять копию паспорта, если в ...   \n",
       "..         ...                                                ...   \n",
       "415  СПРАВКА10  Может ли вдова, вступившая в новый брак, прете...   \n",
       "416  СПРАВКА10  До какого возраста дети могут получать компенс...   \n",
       "417  СПРАВКА10  Какие документы подтверждают родство при обращ...   \n",
       "418  СПРАВКА10  Каковы причины, по которым может быть выдан от...   \n",
       "419  СПРАВКА10  Можно ли подать заявление на получение компенс...   \n",
       "\n",
       "                                                 Ответ  \n",
       "0    Для постановки на воинский учет при переезде н...  \n",
       "1    Нет, подача документов через доверенное лицо н...  \n",
       "2    Срок предоставления услуги по постановке на во...  \n",
       "3    В результате предоставления услуги могут быть ...  \n",
       "4    Да, необходимо предоставить копию паспорта РФ ...  \n",
       "..                                                 ...  \n",
       "415  Нет, вдова, вступившая в новый брак, не может ...  \n",
       "416  Дети в возрасте до 23 лет, обучающиеся в образ...  \n",
       "417  Документы, подтверждающие родство, могут включ...  \n",
       "418  Отказ в выдаче справки может быть обусловлен о...  \n",
       "419  Да, заявление на получение компенсационных вып...  \n",
       "\n",
       "[420 rows x 3 columns]"
      ]
     },
     "execution_count": 3,
     "metadata": {},
     "output_type": "execute_result"
    }
   ],
   "source": [
    "df = pd.read_excel('../service_question_answer.xlsx')\n",
    "df"
   ]
  },
  {
   "cell_type": "code",
   "execution_count": 4,
   "id": "eb6f9e3e-9423-4edf-9d31-ffe567478eb0",
   "metadata": {},
   "outputs": [
    {
     "data": {
      "text/plain": [
       "0      Какие документы необходимо предоставить для по...\n",
       "1      Можно ли подать документы на воинский учет чер...\n",
       "2      Каков срок, в течение которого должны быть вып...\n",
       "3      Какие документы выдаются в результате предоста...\n",
       "4      Нужно ли предоставлять копию паспорта, если в ...\n",
       "                             ...                        \n",
       "415    Может ли вдова, вступившая в новый брак, прете...\n",
       "416    До какого возраста дети могут получать компенс...\n",
       "417    Какие документы подтверждают родство при обращ...\n",
       "418    Каковы причины, по которым может быть выдан от...\n",
       "419    Можно ли подать заявление на получение компенс...\n",
       "Name: Вопрос, Length: 420, dtype: object"
      ]
     },
     "execution_count": 4,
     "metadata": {},
     "output_type": "execute_result"
    }
   ],
   "source": [
    "services = df['Вопрос']\n",
    "services_list = services.tolist()\n",
    "services"
   ]
  },
  {
   "cell_type": "code",
   "execution_count": 5,
   "id": "5a3109e9-9ce4-4fff-b48d-ffa3a958f041",
   "metadata": {},
   "outputs": [
    {
     "data": {
      "text/plain": [
       "[['УЧЕТ01'], ['УЧЕТ01'], ['УЧЕТ01'], ['УЧЕТ01'], ['УЧЕТ01']]"
      ]
     },
     "execution_count": 5,
     "metadata": {},
     "output_type": "execute_result"
    }
   ],
   "source": [
    "ground_truth = [[item] for item in df['Услуга']]\n",
    "ground_truth[:5]"
   ]
  },
  {
   "cell_type": "code",
   "execution_count": null,
   "id": "06de1d6f-13de-40eb-ac9e-0b4a284e177f",
   "metadata": {},
   "outputs": [],
   "source": []
  },
  {
   "cell_type": "markdown",
   "id": "a04398fe-5c32-4269-a980-37c278721449",
   "metadata": {
    "tags": []
   },
   "source": [
    "### **imports, functions**"
   ]
  },
  {
   "cell_type": "code",
   "execution_count": 6,
   "id": "96a2a121-1a39-4ea4-a955-cdef1ea0e5d5",
   "metadata": {},
   "outputs": [],
   "source": [
    "%%capture\n",
    "!pip install -r ./hybrid_search_requirements.txt"
   ]
  },
  {
   "cell_type": "code",
   "execution_count": 7,
   "id": "affce5d5-3b95-4270-bcdf-0266e64bea02",
   "metadata": {},
   "outputs": [],
   "source": [
    "from hybrid_search_module import *"
   ]
  },
  {
   "cell_type": "code",
   "execution_count": 8,
   "id": "85a4f936-3003-4a7d-98a7-1cb8ddc64d06",
   "metadata": {},
   "outputs": [
    {
     "name": "stdout",
     "output_type": "stream",
     "text": [
      "device = device(type='cuda')\n",
      "torch.cuda.device_count() = 1\n",
      "torch.cuda.current_device() = 0\n"
     ]
    }
   ],
   "source": [
    "stopwords_path = '/home/darhanovev/stopwords/russian.txt'\n",
    "\n",
    "rubert_tiny_dir = \"/home/darhanovev/hugging_face/rubert_tiny2\"\n",
    "rubert_base_path = \"/home/darhanovev/hugging_face/rubert_base\"\n",
    "bi_encoder_dir = '/home/darhanovev/hugging_face/bi_encoder_russian_msmarco'\n",
    "user_bge_dir = '/home/darhanovev/hugging_face/USER_bge_m3'\n",
    "\n",
    "device = torch.device(\"cuda\" if torch.cuda.is_available() else \"cpu\")\n",
    "\n",
    "print(f\"{device = }\")\n",
    "print(f\"{torch.cuda.device_count() = }\")\n",
    "print(f\"{torch.cuda.current_device() = }\")"
   ]
  },
  {
   "cell_type": "code",
   "execution_count": 9,
   "id": "308724fb-e2af-4829-8dcb-8db4f6b8f093",
   "metadata": {},
   "outputs": [],
   "source": [
    "from metrics_module import *"
   ]
  },
  {
   "cell_type": "code",
   "execution_count": 10,
   "id": "bcbf94df-c9d1-4347-b8aa-a9d09d1ed08f",
   "metadata": {},
   "outputs": [
    {
     "data": {
      "text/plain": [
       "[(1.0, 0.0),\n",
       " (0.9, 0.1),\n",
       " (0.8, 0.2),\n",
       " (0.7, 0.3),\n",
       " (0.6, 0.4),\n",
       " (0.5, 0.5),\n",
       " (0.4, 0.6),\n",
       " (0.3, 0.7),\n",
       " (0.2, 0.8),\n",
       " (0.1, 0.9),\n",
       " (0.0, 1.0)]"
      ]
     },
     "execution_count": 10,
     "metadata": {},
     "output_type": "execute_result"
    }
   ],
   "source": [
    "weights_range = [(round(1 - elem, 2), round(elem, 2)) for elem in np.linspace(0, 1, 11)]\n",
    "weights_range"
   ]
  },
  {
   "cell_type": "code",
   "execution_count": 11,
   "id": "c1b7baed-fcdc-4556-b1ff-68ba2bc893ae",
   "metadata": {},
   "outputs": [],
   "source": [
    "def process_scores(scores):\n",
    "    \"\"\" for one query \"\"\"\n",
    "    result = [elem[0] for elem in scores]\n",
    "    return result\n",
    "\n",
    "\n",
    "def process_searcher(searcher, weights_tuple, services_list, ground_truth, top):\n",
    "    \"\"\" for one searcher and one weights \"\"\"\n",
    "    result = []\n",
    "    for query in services_list:\n",
    "        weights_cur = {'bm_25': weights_tuple[0], 'embedding': weights_tuple[1]}\n",
    "        scores = searcher.make_query(query, top=10, pooling=True, weights=weights_cur)\n",
    "        processed = process_scores(scores[:5])\n",
    "        result.append(processed)\n",
    "    metrics = RetrieverMetrics(ground_truth, result, top)\n",
    "    to_return = [weights_tuple, metrics.report()]\n",
    "\n",
    "    return to_return\n",
    "\n",
    "\n",
    "def process_weights(searcher, weights, services_list, ground_truth, top):\n",
    "    \"\"\" for one searcher and all weights \"\"\"\n",
    "    result = []\n",
    "    for weights_tuple in weights:\n",
    "        scores = process_searcher(searcher, weights_tuple, services_list, ground_truth, top)\n",
    "        result.append(scores)\n",
    "        print(f\"{scores = }\")\n",
    "\n",
    "    return result"
   ]
  },
  {
   "cell_type": "markdown",
   "id": "befc65e7-8bc0-4458-9891-dcc4c659a3f0",
   "metadata": {},
   "source": [
    "### **ruBERT-tiny-2**"
   ]
  },
  {
   "cell_type": "code",
   "execution_count": 12,
   "id": "d8a2a2f6-f1af-49b8-a324-3e257c17b0b6",
   "metadata": {},
   "outputs": [],
   "source": [
    "searcher_1 = HybridSearch(stopwords_path, rubert_tiny_dir, services_list, device, df)"
   ]
  },
  {
   "cell_type": "code",
   "execution_count": 13,
   "id": "048330bb-bcd3-4ba2-be83-c3991a2549c6",
   "metadata": {},
   "outputs": [
    {
     "data": {
      "text/plain": [
       "[(56, 0.9325843006372452),\n",
       " (52, 0.875095887356912),\n",
       " (51, 0.868788359934007),\n",
       " (54, 0.8453308522951954),\n",
       " (279, 0.4240027070045471)]"
      ]
     },
     "execution_count": 13,
     "metadata": {},
     "output_type": "execute_result"
    }
   ],
   "source": [
    "scores = searcher_1.make_query('Дубликат пенсионного удостоверения от Военкомата', top=5, pooling=False)\n",
    "scores"
   ]
  },
  {
   "cell_type": "code",
   "execution_count": 15,
   "id": "ee195cf1-f779-42e6-a3e6-ca5aabdf7b8b",
   "metadata": {},
   "outputs": [
    {
     "data": {
      "text/plain": [
       "[('ДОКУМЕНТ02', 0.9325843006372452),\n",
       " ('ПЕНСИЯ02', 0.7278832277081815),\n",
       " ('ДОКУМЕНТ01', 0.4228782057762146),\n",
       " ('ДОКУМЕНТ03', 0.42273224890232086),\n",
       " ('ВЫПЛАТЫ13', 0.4224635511636734),\n",
       " ('ПЕНСИЯ03', 0.42092934250831604),\n",
       " ('ДОКУМЕНТ04', 0.2912494548148473)]"
      ]
     },
     "execution_count": 15,
     "metadata": {},
     "output_type": "execute_result"
    }
   ],
   "source": [
    "scores = searcher_1.make_query('Дубликат пенсионного удостоверения от Военкомата', top=10, pooling=True)\n",
    "scores"
   ]
  },
  {
   "cell_type": "code",
   "execution_count": 16,
   "id": "6d59c327-b82e-4b40-a501-254c1c63944e",
   "metadata": {},
   "outputs": [
    {
     "data": {
      "text/plain": [
       "['ДОКУМЕНТ02',\n",
       " 'ПЕНСИЯ02',\n",
       " 'ДОКУМЕНТ01',\n",
       " 'ДОКУМЕНТ03',\n",
       " 'ВЫПЛАТЫ13',\n",
       " 'ПЕНСИЯ03',\n",
       " 'ДОКУМЕНТ04']"
      ]
     },
     "execution_count": 16,
     "metadata": {},
     "output_type": "execute_result"
    }
   ],
   "source": [
    "process_scores(scores)"
   ]
  },
  {
   "cell_type": "code",
   "execution_count": 18,
   "id": "768d05af-7b46-4141-8e93-50a88576340e",
   "metadata": {},
   "outputs": [
    {
     "name": "stdout",
     "output_type": "stream",
     "text": [
      "scores = [(1.0, 0.0), (0.42802645502645503, 0.9279541188738268, 0.9254365079365079)]\n",
      "scores = [(0.9, 0.1), (0.42623809523809525, 0.9333680917622523, 0.9313888888888889)]\n",
      "scores = [(0.8, 0.2), (0.42623809523809525, 0.9333680917622523, 0.9313888888888889)]\n",
      "scores = [(0.7, 0.3), (0.42623809523809525, 0.9333680917622523, 0.9313888888888889)]\n",
      "scores = [(0.6, 0.4), (0.42623809523809525, 0.9333680917622523, 0.9313888888888889)]\n",
      "scores = [(0.5, 0.5), (0.42623809523809525, 0.9333680917622523, 0.9313888888888889)]\n",
      "scores = [(0.4, 0.6), (0.42623809523809525, 0.9333680917622523, 0.9313888888888889)]\n",
      "scores = [(0.3, 0.7), (0.42623809523809525, 0.9333680917622523, 0.9313888888888889)]\n",
      "scores = [(0.2, 0.8), (0.42623809523809525, 0.9333680917622523, 0.9313888888888889)]\n",
      "scores = [(0.1, 0.9), (0.42623809523809525, 0.9333680917622523, 0.9313888888888889)]\n",
      "scores = [(0.0, 1.0), (0.42623809523809525, 0.9333680917622523, 0.9313888888888889)]\n",
      "CPU times: user 48min 11s, sys: 57.1 s, total: 49min 8s\n",
      "Wall time: 49min 53s\n"
     ]
    }
   ],
   "source": [
    "%%time\n",
    "result_1 = process_weights(searcher_1, weights_range, services_list, ground_truth, 5)"
   ]
  },
  {
   "cell_type": "code",
   "execution_count": 28,
   "id": "29bd38ff-d64d-445e-974d-f4a898ddd15b",
   "metadata": {},
   "outputs": [
    {
     "name": "stdout",
     "output_type": "stream",
     "text": [
      "BM25\truBERT-tiny-2\tMAP@5\t\tnorm_MAP@5\tMRR@5\n",
      "1.0\t0.0\t\t0.4280\t\t0.9280\t\t0.9254\n",
      "0.9\t0.1\t\t0.4262\t\t0.9334\t\t0.9314\n",
      "0.8\t0.2\t\t0.4262\t\t0.9334\t\t0.9314\n",
      "0.7\t0.3\t\t0.4262\t\t0.9334\t\t0.9314\n",
      "0.6\t0.4\t\t0.4262\t\t0.9334\t\t0.9314\n",
      "0.5\t0.5\t\t0.4262\t\t0.9334\t\t0.9314\n",
      "0.4\t0.6\t\t0.4262\t\t0.9334\t\t0.9314\n",
      "0.3\t0.7\t\t0.4262\t\t0.9334\t\t0.9314\n",
      "0.2\t0.8\t\t0.4262\t\t0.9334\t\t0.9314\n",
      "0.1\t0.9\t\t0.4262\t\t0.9334\t\t0.9314\n",
      "0.0\t1.0\t\t0.4262\t\t0.9334\t\t0.9314\n"
     ]
    }
   ],
   "source": [
    "print(\"BM25\\truBERT-tiny-2\\tMAP@5\\t\\tnorm_MAP@5\\tMRR@5\")\n",
    "for elem in result_1:\n",
    "    print(f\"{elem[0][0]}\\t{elem[0][1]}\\t\\t{elem[1][0]:.4f}\\t\\t{elem[1][1]:.4f}\\t\\t{elem[1][2]:.4f}\")"
   ]
  },
  {
   "cell_type": "code",
   "execution_count": null,
   "id": "d605398b-06ae-4d17-bbe2-456783dc4cd9",
   "metadata": {},
   "outputs": [],
   "source": []
  },
  {
   "cell_type": "markdown",
   "id": "1714fe5f-ac3b-4aa7-a3c6-9fbebb530cb0",
   "metadata": {},
   "source": [
    "### **ruBERT-base**"
   ]
  },
  {
   "cell_type": "code",
   "execution_count": 19,
   "id": "a032648d-7505-4663-a266-61941b064534",
   "metadata": {},
   "outputs": [
    {
     "name": "stderr",
     "output_type": "stream",
     "text": [
      "No sentence-transformers model found with name /home/darhanovev/hugging_face/rubert_base. Creating a new one with mean pooling.\n",
      "/opt/conda/lib/python3.11/site-packages/torch/_utils.py:831: UserWarning: TypedStorage is deprecated. It will be removed in the future and UntypedStorage will be the only storage class. This should only matter to you if you are using storages directly.  To access UntypedStorage directly, use tensor.untyped_storage() instead of tensor.storage()\n",
      "  return self.fget.__get__(instance, owner)()\n"
     ]
    }
   ],
   "source": [
    "searcher_2 = HybridSearch(stopwords_path, rubert_base_path, services_list, device, df)"
   ]
  },
  {
   "cell_type": "code",
   "execution_count": 20,
   "id": "a0c38311-e1ba-494f-82a2-84c2ca0f61fe",
   "metadata": {},
   "outputs": [
    {
     "data": {
      "text/plain": [
       "[('ДОКУМЕНТ02', 0.938690796494484),\n",
       " ('ДОКУМЕНТ03', 0.4413982778787613),\n",
       " ('ДОКУМЕНТ05', 0.42581577599048615),\n",
       " ('СПРАВКА07', 0.42529168725013733)]"
      ]
     },
     "execution_count": 20,
     "metadata": {},
     "output_type": "execute_result"
    }
   ],
   "source": [
    "scores = searcher_2.make_query('Дубликат пенсионного удостоверения от Военкомата', top=6, pooling=True)\n",
    "scores"
   ]
  },
  {
   "cell_type": "code",
   "execution_count": 21,
   "id": "d438b4f4-225d-4239-9216-2dc0ed921e25",
   "metadata": {},
   "outputs": [
    {
     "name": "stdout",
     "output_type": "stream",
     "text": [
      "scores = [(1.0, 0.0), (0.42802645502645503, 0.9279541188738268, 0.9254365079365079)]\n",
      "scores = [(0.9, 0.1), (0.4257440476190476, 0.9312825860271116, 0.9290079365079366)]\n",
      "scores = [(0.8, 0.2), (0.4257440476190476, 0.9312825860271116, 0.9290079365079366)]\n",
      "scores = [(0.7, 0.3), (0.4257440476190476, 0.9312825860271116, 0.9290079365079366)]\n",
      "scores = [(0.6, 0.4), (0.4257440476190476, 0.9312825860271116, 0.9290079365079366)]\n",
      "scores = [(0.5, 0.5), (0.4257440476190476, 0.9312825860271116, 0.9290079365079366)]\n",
      "scores = [(0.4, 0.6), (0.4257440476190476, 0.9312825860271116, 0.9290079365079366)]\n",
      "scores = [(0.3, 0.7), (0.4257440476190476, 0.9312825860271116, 0.9290079365079366)]\n",
      "scores = [(0.2, 0.8), (0.4257440476190476, 0.9312825860271116, 0.9290079365079366)]\n",
      "scores = [(0.1, 0.9), (0.4257440476190476, 0.9312825860271116, 0.9290079365079366)]\n",
      "scores = [(0.0, 1.0), (0.4257440476190476, 0.9312825860271116, 0.9290079365079366)]\n",
      "CPU times: user 40min 22s, sys: 8.68 s, total: 40min 30s\n",
      "Wall time: 40min 59s\n"
     ]
    }
   ],
   "source": [
    "%%time\n",
    "result_2 = process_weights(searcher_2, weights_range, services_list, ground_truth, 5)"
   ]
  },
  {
   "cell_type": "code",
   "execution_count": 29,
   "id": "ffe3437b-4ff2-4e64-a0e0-c11322340c1d",
   "metadata": {},
   "outputs": [
    {
     "name": "stdout",
     "output_type": "stream",
     "text": [
      "BM25\truBERT-base\tMAP@5\t\tnorm_MAP@5\tMRR@5\n",
      "1.0\t0.0\t\t0.4280\t\t0.9280\t\t0.9254\n",
      "0.9\t0.1\t\t0.4257\t\t0.9313\t\t0.9290\n",
      "0.8\t0.2\t\t0.4257\t\t0.9313\t\t0.9290\n",
      "0.7\t0.3\t\t0.4257\t\t0.9313\t\t0.9290\n",
      "0.6\t0.4\t\t0.4257\t\t0.9313\t\t0.9290\n",
      "0.5\t0.5\t\t0.4257\t\t0.9313\t\t0.9290\n",
      "0.4\t0.6\t\t0.4257\t\t0.9313\t\t0.9290\n",
      "0.3\t0.7\t\t0.4257\t\t0.9313\t\t0.9290\n",
      "0.2\t0.8\t\t0.4257\t\t0.9313\t\t0.9290\n",
      "0.1\t0.9\t\t0.4257\t\t0.9313\t\t0.9290\n",
      "0.0\t1.0\t\t0.4257\t\t0.9313\t\t0.9290\n"
     ]
    }
   ],
   "source": [
    "print(\"BM25\\truBERT-base\\tMAP@5\\t\\tnorm_MAP@5\\tMRR@5\")\n",
    "for elem in result_2:\n",
    "    print(f\"{elem[0][0]}\\t{elem[0][1]}\\t\\t{elem[1][0]:.4f}\\t\\t{elem[1][1]:.4f}\\t\\t{elem[1][2]:.4f}\")"
   ]
  },
  {
   "cell_type": "code",
   "execution_count": null,
   "id": "71a1c6ef-d50b-4761-84d1-735e859e749a",
   "metadata": {},
   "outputs": [],
   "source": []
  },
  {
   "cell_type": "markdown",
   "id": "f072443c-cd58-46f6-9ee9-5b4fc7d0d2ec",
   "metadata": {},
   "source": [
    "### **bi-encoder**"
   ]
  },
  {
   "cell_type": "code",
   "execution_count": 31,
   "id": "18fb4b35-9066-4bc5-822c-5ae812abc31c",
   "metadata": {},
   "outputs": [],
   "source": [
    "searcher_3 = HybridSearch(stopwords_path, bi_encoder_dir, services_list, device, df)"
   ]
  },
  {
   "cell_type": "code",
   "execution_count": 32,
   "id": "7d52aa44-b46e-479b-84aa-439a0f45a325",
   "metadata": {},
   "outputs": [
    {
     "data": {
      "text/plain": [
       "[('ДОКУМЕНТ02', 0.5),\n",
       " ('ПЕНСИЯ05', 0.38593780994415283),\n",
       " ('СПРАВКА09', 0.38577376306056976),\n",
       " ('ВЫПЛАТЫ11', 0.3699050173163414),\n",
       " ('ПЕНСИЯ03', 0.3622478023171425)]"
      ]
     },
     "execution_count": 32,
     "metadata": {},
     "output_type": "execute_result"
    }
   ],
   "source": [
    "scores = searcher_3.make_query('Дубликат пенсионного удостоверения от Военкомата', top=5, pooling=True)\n",
    "scores"
   ]
  },
  {
   "cell_type": "code",
   "execution_count": 33,
   "id": "800ad4f0-ef1d-4528-b92d-69d4dd8b081e",
   "metadata": {},
   "outputs": [
    {
     "name": "stdout",
     "output_type": "stream",
     "text": [
      "scores = [(1.0, 0.0), (0.42802645502645503, 0.9279541188738268, 0.9254365079365079)]\n",
      "scores = [(0.9, 0.1), (0.42684920634920637, 0.9333680917622523, 0.9313888888888889)]\n",
      "scores = [(0.8, 0.2), (0.42684920634920637, 0.9333680917622523, 0.9313888888888889)]\n",
      "scores = [(0.7, 0.3), (0.42684920634920637, 0.9333680917622523, 0.9313888888888889)]\n",
      "scores = [(0.6, 0.4), (0.42684920634920637, 0.9333680917622523, 0.9313888888888889)]\n",
      "scores = [(0.5, 0.5), (0.42684920634920637, 0.9333680917622523, 0.9313888888888889)]\n",
      "scores = [(0.4, 0.6), (0.42684920634920637, 0.9333680917622523, 0.9313888888888889)]\n",
      "scores = [(0.3, 0.7), (0.42684920634920637, 0.9333680917622523, 0.9313888888888889)]\n",
      "scores = [(0.2, 0.8), (0.42684920634920637, 0.9333680917622523, 0.9313888888888889)]\n",
      "scores = [(0.1, 0.9), (0.42684920634920637, 0.9333680917622523, 0.9313888888888889)]\n",
      "scores = [(0.0, 1.0), (0.42684920634920637, 0.9333680917622523, 0.9313888888888889)]\n",
      "CPU times: user 41min 53s, sys: 12.6 s, total: 42min 6s\n",
      "Wall time: 42min 41s\n"
     ]
    }
   ],
   "source": [
    "%%time\n",
    "result_3 = process_weights(searcher_3, weights_range, services_list, ground_truth, 5)"
   ]
  },
  {
   "cell_type": "code",
   "execution_count": 34,
   "id": "1e0e2137-1c10-489b-9c5c-411231ea988a",
   "metadata": {},
   "outputs": [
    {
     "name": "stdout",
     "output_type": "stream",
     "text": [
      "BM25\tbi-encoder\tMAP@5\t\tnorm_MAP@5\tMRR@5\n",
      "1.0\t0.0\t\t0.4280\t\t0.9280\t\t0.9254\n",
      "0.9\t0.1\t\t0.4268\t\t0.9334\t\t0.9314\n",
      "0.8\t0.2\t\t0.4268\t\t0.9334\t\t0.9314\n",
      "0.7\t0.3\t\t0.4268\t\t0.9334\t\t0.9314\n",
      "0.6\t0.4\t\t0.4268\t\t0.9334\t\t0.9314\n",
      "0.5\t0.5\t\t0.4268\t\t0.9334\t\t0.9314\n",
      "0.4\t0.6\t\t0.4268\t\t0.9334\t\t0.9314\n",
      "0.3\t0.7\t\t0.4268\t\t0.9334\t\t0.9314\n",
      "0.2\t0.8\t\t0.4268\t\t0.9334\t\t0.9314\n",
      "0.1\t0.9\t\t0.4268\t\t0.9334\t\t0.9314\n",
      "0.0\t1.0\t\t0.4268\t\t0.9334\t\t0.9314\n"
     ]
    }
   ],
   "source": [
    "print(\"BM25\\tbi-encoder\\tMAP@5\\t\\tnorm_MAP@5\\tMRR@5\")\n",
    "for elem in result_3:\n",
    "    print(f\"{elem[0][0]}\\t{elem[0][1]}\\t\\t{elem[1][0]:.4f}\\t\\t{elem[1][1]:.4f}\\t\\t{elem[1][2]:.4f}\")"
   ]
  },
  {
   "cell_type": "code",
   "execution_count": null,
   "id": "4afae4a2-fa4a-48c2-96a2-05e451e6f9a8",
   "metadata": {},
   "outputs": [],
   "source": []
  },
  {
   "cell_type": "markdown",
   "id": "565ebd21-b785-4e5a-94f7-1cb9472dd716",
   "metadata": {},
   "source": [
    "### **USER-bge-m3**"
   ]
  },
  {
   "cell_type": "code",
   "execution_count": 35,
   "id": "3390808f-f903-4e5a-a978-f3e4a626f7f4",
   "metadata": {},
   "outputs": [],
   "source": [
    "searcher_4 = HybridSearch(stopwords_path, user_bge_dir, services_list, device, df)"
   ]
  },
  {
   "cell_type": "code",
   "execution_count": 36,
   "id": "338ed3fd-6505-4ec9-a17e-c3a098fcdffb",
   "metadata": {},
   "outputs": [
    {
     "data": {
      "text/plain": [
       "[('ДОКУМЕНТ02', 0.9363677054643631),\n",
       " ('ДОКУМЕНТ03', 0.4416535198688507),\n",
       " ('РЕКВИЗИТЫ01', 0.4162900298833847),\n",
       " ('ПЕНСИЯ02', 0.3038805207036344)]"
      ]
     },
     "execution_count": 36,
     "metadata": {},
     "output_type": "execute_result"
    }
   ],
   "source": [
    "scores = searcher_4.make_query('Дубликат пенсионного удостоверения от Военкомата', top=7, pooling=True)\n",
    "scores"
   ]
  },
  {
   "cell_type": "code",
   "execution_count": 37,
   "id": "26e548d7-9fc2-48dc-bc0a-da211c300cd9",
   "metadata": {},
   "outputs": [
    {
     "name": "stdout",
     "output_type": "stream",
     "text": [
      "scores = [(1.0, 0.0), (0.42802645502645503, 0.9279541188738268, 0.9254365079365079)]\n",
      "scores = [(0.9, 0.1), (0.4265436507936508, 0.9333680917622522, 0.9313888888888889)]\n",
      "scores = [(0.8, 0.2), (0.4265436507936508, 0.9333680917622522, 0.9313888888888889)]\n",
      "scores = [(0.7, 0.3), (0.4265436507936508, 0.9333680917622522, 0.9313888888888889)]\n",
      "scores = [(0.6, 0.4), (0.4265436507936508, 0.9333680917622522, 0.9313888888888889)]\n",
      "scores = [(0.5, 0.5), (0.4265436507936508, 0.9333680917622522, 0.9313888888888889)]\n",
      "scores = [(0.4, 0.6), (0.4265436507936508, 0.9333680917622522, 0.9313888888888889)]\n",
      "scores = [(0.3, 0.7), (0.4265436507936508, 0.9333680917622522, 0.9313888888888889)]\n",
      "scores = [(0.2, 0.8), (0.4265436507936508, 0.9333680917622522, 0.9313888888888889)]\n",
      "scores = [(0.1, 0.9), (0.4265436507936508, 0.9333680917622522, 0.9313888888888889)]\n",
      "scores = [(0.0, 1.0), (0.4265436507936508, 0.9333680917622522, 0.9313888888888889)]\n",
      "CPU times: user 38min 39s, sys: 9.44 s, total: 38min 48s\n",
      "Wall time: 39min 20s\n"
     ]
    }
   ],
   "source": [
    "%%time\n",
    "result_4 = process_weights(searcher_4, weights_range, services_list, ground_truth, 5)"
   ]
  },
  {
   "cell_type": "code",
   "execution_count": 38,
   "id": "b51e5a21-69bf-4c73-b371-304e9e10038c",
   "metadata": {},
   "outputs": [
    {
     "name": "stdout",
     "output_type": "stream",
     "text": [
      "BM25\tUSER-bge-m3\tMAP@5\t\tnorm_MAP@5\tMRR@5\n",
      "1.0\t0.0\t\t0.4280\t\t0.9280\t\t0.9254\n",
      "0.9\t0.1\t\t0.4265\t\t0.9334\t\t0.9314\n",
      "0.8\t0.2\t\t0.4265\t\t0.9334\t\t0.9314\n",
      "0.7\t0.3\t\t0.4265\t\t0.9334\t\t0.9314\n",
      "0.6\t0.4\t\t0.4265\t\t0.9334\t\t0.9314\n",
      "0.5\t0.5\t\t0.4265\t\t0.9334\t\t0.9314\n",
      "0.4\t0.6\t\t0.4265\t\t0.9334\t\t0.9314\n",
      "0.3\t0.7\t\t0.4265\t\t0.9334\t\t0.9314\n",
      "0.2\t0.8\t\t0.4265\t\t0.9334\t\t0.9314\n",
      "0.1\t0.9\t\t0.4265\t\t0.9334\t\t0.9314\n",
      "0.0\t1.0\t\t0.4265\t\t0.9334\t\t0.9314\n"
     ]
    }
   ],
   "source": [
    "print(\"BM25\\tUSER-bge-m3\\tMAP@5\\t\\tnorm_MAP@5\\tMRR@5\")\n",
    "for elem in result_4:\n",
    "    print(f\"{elem[0][0]}\\t{elem[0][1]}\\t\\t{elem[1][0]:.4f}\\t\\t{elem[1][1]:.4f}\\t\\t{elem[1][2]:.4f}\")"
   ]
  },
  {
   "cell_type": "code",
   "execution_count": null,
   "id": "fd231ecc-dd5f-4008-ae34-5857829ec96c",
   "metadata": {},
   "outputs": [],
   "source": []
  },
  {
   "cell_type": "code",
   "execution_count": null,
   "id": "d3fca09d-c1fa-4712-9c98-6af9a37cd8b0",
   "metadata": {},
   "outputs": [],
   "source": []
  }
 ],
 "metadata": {
  "kernelspec": {
   "display_name": "Python 3.11",
   "language": "python",
   "name": "python3"
  },
  "language_info": {
   "codemirror_mode": {
    "name": "ipython",
    "version": 3
   },
   "file_extension": ".py",
   "mimetype": "text/x-python",
   "name": "python",
   "nbconvert_exporter": "python",
   "pygments_lexer": "ipython3",
   "version": "3.11.9"
  }
 },
 "nbformat": 4,
 "nbformat_minor": 5
}
