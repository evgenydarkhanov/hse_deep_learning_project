{
 "cells": [
  {
   "cell_type": "markdown",
   "id": "caf13cdc-f720-42c9-ba31-aa596f017e60",
   "metadata": {},
   "source": [
    "**гибридный поиск версия 1.6:**\n",
    "\n",
    "- эмбеддер заменён на `USER_bge_m3` от vkdeep\n",
    "- при `pooling=True` возвращаются `[(DataFrame index, score, КОД УСЛУГИ), ...]`\n",
    "- при `pooling=False` возвращаются `[(DataFrame index, score, КОД УСЛУГИ), ...]`"
   ]
  },
  {
   "cell_type": "code",
   "execution_count": 2,
   "id": "b610c11e-b38e-4a56-959c-01ce86e7ca3a",
   "metadata": {
    "id": "b610c11e-b38e-4a56-959c-01ce86e7ca3a"
   },
   "outputs": [],
   "source": [
    "%%capture\n",
    "!pip install openpyxl"
   ]
  },
  {
   "cell_type": "code",
   "execution_count": 3,
   "id": "84e2444c-2b90-4d68-a753-056684cb94a3",
   "metadata": {
    "id": "84e2444c-2b90-4d68-a753-056684cb94a3"
   },
   "outputs": [],
   "source": [
    "import pandas as pd"
   ]
  },
  {
   "cell_type": "code",
   "execution_count": 4,
   "id": "d1bc1941-7fd7-4b09-aa7a-249b179c1300",
   "metadata": {
    "colab": {
     "base_uri": "https://localhost:8080/",
     "height": 1000
    },
    "id": "d1bc1941-7fd7-4b09-aa7a-249b179c1300",
    "outputId": "1eb81836-6516-406c-87b7-8ac590fcf63d"
   },
   "outputs": [
    {
     "data": {
      "text/html": [
       "<div>\n",
       "<style scoped>\n",
       "    .dataframe tbody tr th:only-of-type {\n",
       "        vertical-align: middle;\n",
       "    }\n",
       "\n",
       "    .dataframe tbody tr th {\n",
       "        vertical-align: top;\n",
       "    }\n",
       "\n",
       "    .dataframe thead th {\n",
       "        text-align: right;\n",
       "    }\n",
       "</style>\n",
       "<table border=\"1\" class=\"dataframe\">\n",
       "  <thead>\n",
       "    <tr style=\"text-align: right;\">\n",
       "      <th></th>\n",
       "      <th>Название услуги</th>\n",
       "      <th>Код услуги</th>\n",
       "    </tr>\n",
       "  </thead>\n",
       "  <tbody>\n",
       "    <tr>\n",
       "      <th>0</th>\n",
       "      <td>Оплата дополнительного оплачиваемого отпуска п...</td>\n",
       "      <td>ВЫПЛАТЫ01</td>\n",
       "    </tr>\n",
       "    <tr>\n",
       "      <th>1</th>\n",
       "      <td>Оплата дополнительного отпуска инвалидам ЧАЭС</td>\n",
       "      <td>ВЫПЛАТЫ01</td>\n",
       "    </tr>\n",
       "    <tr>\n",
       "      <th>2</th>\n",
       "      <td>Оплата отпуска инвалидам пострадавшим вследств...</td>\n",
       "      <td>ВЫПЛАТЫ01</td>\n",
       "    </tr>\n",
       "    <tr>\n",
       "      <th>3</th>\n",
       "      <td>Оплата дополнительного отпуска участникам рабо...</td>\n",
       "      <td>ВЫПЛАТЫ01</td>\n",
       "    </tr>\n",
       "    <tr>\n",
       "      <th>4</th>\n",
       "      <td>Оплата  отпуска ликвидаторам ЧАЭС</td>\n",
       "      <td>ВЫПЛАТЫ01</td>\n",
       "    </tr>\n",
       "    <tr>\n",
       "      <th>...</th>\n",
       "      <td>...</td>\n",
       "      <td>...</td>\n",
       "    </tr>\n",
       "    <tr>\n",
       "      <th>419</th>\n",
       "      <td>В МФЦ обратилась гражданка. Ее супруг, записал...</td>\n",
       "      <td>ВЫПЛАТЫ12</td>\n",
       "    </tr>\n",
       "    <tr>\n",
       "      <th>420</th>\n",
       "      <td>В МФЦ обратилась вдова военнослужащего Маслова...</td>\n",
       "      <td>ВЫПЛАТЫ12</td>\n",
       "    </tr>\n",
       "    <tr>\n",
       "      <th>421</th>\n",
       "      <td>В МФЦ обратился гражданин за компенсацией расх...</td>\n",
       "      <td>ВЫПЛАТЫ13</td>\n",
       "    </tr>\n",
       "    <tr>\n",
       "      <th>422</th>\n",
       "      <td>В МФЦ обратился военный пенсионер. Он был приз...</td>\n",
       "      <td>ВЫПЛАТЫ14</td>\n",
       "    </tr>\n",
       "    <tr>\n",
       "      <th>423</th>\n",
       "      <td>В МФЦ обратилась вдова военнослужащего. Супруг...</td>\n",
       "      <td>ВЫПЛАТЫ15</td>\n",
       "    </tr>\n",
       "  </tbody>\n",
       "</table>\n",
       "<p>424 rows × 2 columns</p>\n",
       "</div>"
      ],
      "text/plain": [
       "                                       Название услуги Код услуги\n",
       "0    Оплата дополнительного оплачиваемого отпуска п...  ВЫПЛАТЫ01\n",
       "1        Оплата дополнительного отпуска инвалидам ЧАЭС  ВЫПЛАТЫ01\n",
       "2    Оплата отпуска инвалидам пострадавшим вследств...  ВЫПЛАТЫ01\n",
       "3    Оплата дополнительного отпуска участникам рабо...  ВЫПЛАТЫ01\n",
       "4                    Оплата  отпуска ликвидаторам ЧАЭС  ВЫПЛАТЫ01\n",
       "..                                                 ...        ...\n",
       "419  В МФЦ обратилась гражданка. Ее супруг, записал...  ВЫПЛАТЫ12\n",
       "420  В МФЦ обратилась вдова военнослужащего Маслова...  ВЫПЛАТЫ12\n",
       "421  В МФЦ обратился гражданин за компенсацией расх...  ВЫПЛАТЫ13\n",
       "422  В МФЦ обратился военный пенсионер. Он был приз...  ВЫПЛАТЫ14\n",
       "423  В МФЦ обратилась вдова военнослужащего. Супруг...  ВЫПЛАТЫ15\n",
       "\n",
       "[424 rows x 2 columns]"
      ]
     },
     "execution_count": 4,
     "metadata": {},
     "output_type": "execute_result"
    }
   ],
   "source": [
    "df = pd.read_excel('../ВК_Услуги_AUG только с услугами.xlsx')\n",
    "df"
   ]
  },
  {
   "cell_type": "markdown",
   "id": "9ba0f3d4-0d63-450b-824d-9e16dd072726",
   "metadata": {
    "id": "9ba0f3d4-0d63-450b-824d-9e16dd072726"
   },
   "source": [
    "**вытаскиваем колонку, которая будет векторизоваться и по которой будет производиться поиск**"
   ]
  },
  {
   "cell_type": "code",
   "execution_count": 5,
   "id": "a43dda9a-39c1-41f8-90e5-c8c4f209bffa",
   "metadata": {
    "colab": {
     "base_uri": "https://localhost:8080/",
     "height": 458
    },
    "id": "a43dda9a-39c1-41f8-90e5-c8c4f209bffa",
    "outputId": "41c93bb8-74d1-4ad9-a4cd-f5e064098a01"
   },
   "outputs": [
    {
     "data": {
      "text/plain": [
       "0      Оплата дополнительного оплачиваемого отпуска п...\n",
       "1          Оплата дополнительного отпуска инвалидам ЧАЭС\n",
       "2      Оплата отпуска инвалидам пострадавшим вследств...\n",
       "3      Оплата дополнительного отпуска участникам рабо...\n",
       "4                      Оплата  отпуска ликвидаторам ЧАЭС\n",
       "                             ...                        \n",
       "419    В МФЦ обратилась гражданка. Ее супруг, записал...\n",
       "420    В МФЦ обратилась вдова военнослужащего Маслова...\n",
       "421    В МФЦ обратился гражданин за компенсацией расх...\n",
       "422    В МФЦ обратился военный пенсионер. Он был приз...\n",
       "423    В МФЦ обратилась вдова военнослужащего. Супруг...\n",
       "Name: Название услуги, Length: 424, dtype: object"
      ]
     },
     "execution_count": 5,
     "metadata": {},
     "output_type": "execute_result"
    }
   ],
   "source": [
    "services = df['Название услуги']\n",
    "services_list = services.tolist()\n",
    "services"
   ]
  },
  {
   "cell_type": "markdown",
   "id": "26a0644f-c736-4281-8ed6-1efc7fb526ef",
   "metadata": {},
   "source": [
    "### **Hybrid Search**"
   ]
  },
  {
   "cell_type": "code",
   "execution_count": 6,
   "id": "422cfde9-1c68-4a9c-b1d2-da548adedc0e",
   "metadata": {},
   "outputs": [],
   "source": [
    "%%capture\n",
    "!pip install rank_bm25\n",
    "!pip install pymystem3\n",
    "!pip install pymorphy3\n",
    "!pip install torch\n",
    "!pip install sentence-transformers"
   ]
  },
  {
   "cell_type": "code",
   "execution_count": 7,
   "id": "143df015-ca39-4f64-b9db-27aa65dd81e9",
   "metadata": {},
   "outputs": [],
   "source": [
    "# BM25 imports\n",
    "from rank_bm25 import BM25Okapi\n",
    "import numpy as np\n",
    "import re\n",
    "import pymorphy3\n",
    "\n",
    "# embedding imports\n",
    "import torch\n",
    "from sentence_transformers import SentenceTransformer, util\n",
    "import numpy as np\n",
    "\n",
    "# hybrid search imports\n",
    "import pandas as pd"
   ]
  },
  {
   "cell_type": "code",
   "execution_count": 8,
   "id": "f763381d-adc4-412e-8659-bce0c5848ab9",
   "metadata": {},
   "outputs": [],
   "source": [
    "class BM25Search:\n",
    "    def __init__(self, stopwords_path: str, documents: list[str]):\n",
    "\n",
    "        with open(stopwords_path, 'r') as file:\n",
    "            self._stop_words = {word.strip() for word in file}\n",
    "\n",
    "        self._lemmatizer = pymorphy3.MorphAnalyzer()\n",
    "        self._TOKEN_WORD = re.compile('[а-яА-ЯёЁ]{2,}')\n",
    "        self._documents_tokenized = [self._one_sentence_preprocessing(doc, self._stop_words).split() for doc in documents]\n",
    "        self._bm25_index = BM25Okapi(self._documents_tokenized)\n",
    "\n",
    "    def _remove_lemmatize_preprocessing(self, sentence: str, words_to_remove: set) -> list:\n",
    "        \"\"\" приводит к нижнему регистру, убирает числа и мусорные слова, лемматизирует \"\"\"\n",
    "        if isinstance(sentence, str):\n",
    "            regex_tmp = re.findall(self._TOKEN_WORD, sentence.lower())\n",
    "            remove_tmp = [self._lemmatizer.parse(token.strip())[0].normal_form for token in regex_tmp if token not in words_to_remove]\n",
    "            return remove_tmp\n",
    "        return []\n",
    "\n",
    "    def _one_sentence_preprocessing(self, sentence: str, words_to_remove: set) -> str:\n",
    "        \"\"\" применяет препроцессинги к одному предложению \"\"\"\n",
    "        sentence_words = self._remove_lemmatize_preprocessing(sentence, words_to_remove)\n",
    "        result = ' '.join(sentence_words)\n",
    "        return result\n",
    "\n",
    "    def make_query(self, query: str, top: int = 5):\n",
    "        \"\"\"\n",
    "        возвращает:\n",
    "            - [{'corpus_id': id, 'score': score}, ...]\n",
    "            - score - значения Okapi BM25 в диапазоне [0, 1]\n",
    "        \"\"\"\n",
    "\n",
    "        query_cleaned = self._one_sentence_preprocessing(query, self._stop_words)\n",
    "        query_tokenized = query_cleaned.split()\n",
    "\n",
    "        scores = self._bm25_index.get_scores(query_tokenized)\n",
    "        scores /= np.max(scores)\n",
    "\n",
    "        top_k = np.argsort(scores)[::-1][:top]\n",
    "        result = [{'corpus_id': i, 'score': scores[i]} for i in top_k]\n",
    "\n",
    "        return result\n",
    "\n",
    "\n",
    "class EmbeddingSearch:\n",
    "    def __init__(self, embedder_path: str, documents: list[str], device):\n",
    "        self._model = SentenceTransformer(\n",
    "            model_name_or_path=embedder_path,\n",
    "            device=device,\n",
    "            local_files_only=True\n",
    "        )\n",
    "        self._documents_embedded = self._model.encode(documents)\n",
    "\n",
    "    def make_query(self, query: str, top: int = 5):\n",
    "        \"\"\"\n",
    "        возвращает:\n",
    "            - [{'corpus_id': id, 'score': score}, ...]\n",
    "            - score - нормированная на диапазон [0, 1] косинусная близость\n",
    "        \"\"\"\n",
    "        query_emb = self._model.encode(query)\n",
    "        result = util.semantic_search(query_emb, self._documents_embedded)[0][:top]\n",
    "        for dct in result:\n",
    "            dct['score'] = (dct['score'] + 1) / 2\n",
    "\n",
    "        return result\n",
    "\n",
    "\n",
    "class HybridSearch:\n",
    "    def __init__(\n",
    "        self,\n",
    "        stopwords_path: str,\n",
    "        embedder_path: str,\n",
    "        documents: list[str],\n",
    "        device,\n",
    "        dataframe: pd.DataFrame\n",
    "    ):\n",
    "        self._bm_25 = BM25Search(stopwords_path, documents)\n",
    "        self._embedding = EmbeddingSearch(embedder_path, documents, device)\n",
    "        self._dataframe = dataframe\n",
    "\n",
    "    def _scores_merging(\n",
    "        self,\n",
    "        *args,\n",
    "        top: int,\n",
    "        pooling: bool,\n",
    "        threshold: float\n",
    "    ) -> list[tuple[int | float]]:\n",
    "\n",
    "        \"\"\"\n",
    "        объединяет результаты произвольного количества поисковиков\n",
    "        оставляет уникальные ключи, суммирует скоры\n",
    "\n",
    "        принимает: несколько словарей {id: score, ...}, {id: score, ...}; id - DataFrame index\n",
    "        возвращает: список кортежей [(id, (score,)), ...]; id - DataFrame index\n",
    "\n",
    "        if pooling is True:\n",
    "            делает: Взвешенная сумма + Max pooling + топ-N\n",
    "            возвращает: список кортежей [(id, (score, id)), ...]; id - DataFrame index\n",
    "\n",
    "        if threshold is not None:\n",
    "            возвращает то же самое, только score > threshold\n",
    "        \"\"\"\n",
    "\n",
    "        tmp_result = {}\n",
    "\n",
    "        # суммируем скоры с коэффициентами\n",
    "\n",
    "        for arg in args:   # получаем словарь вида {index: (score, КОД УСЛУГИ), ...}\n",
    "            for key, value in arg.items():\n",
    "                service_code = self._dataframe.iloc[key, 1]\n",
    "                if key not in tmp_result:\n",
    "                    tmp_result[key] = (value, service_code)\n",
    "                else:\n",
    "                    new_value = value + tmp_result[key][0]\n",
    "                    service_code = tmp_result[key][1]\n",
    "                    tmp_result[key] = (new_value, service_code)\n",
    "\n",
    "        # распаковка\n",
    "        unpacked = [(key, value[0], value[1]) for key, value in tmp_result.items()]\n",
    "\n",
    "        if pooling:        # получаем словарь вида {'КОД УСЛУГИ': (score, index), ...}\n",
    "            result = {}\n",
    "            for key, value in tmp_result.items():\n",
    "                new_key = self._dataframe.iloc[key, 1]\n",
    "                new_value = value[0]\n",
    "                if new_key not in result:\n",
    "                    result[new_key] = (new_value, key)\n",
    "                else:\n",
    "                    old_key, old_value = result[new_key]\n",
    "                    if new_value > old_value:\n",
    "                        result[new_key] = (new_value, key)\n",
    "\n",
    "            # распаковка\n",
    "            unpacked = [(value[1], value[0], key) for key, value in result.items()]\n",
    "\n",
    "        # сортируем по итоговому значению скора и берём топ\n",
    "        result = sorted(unpacked, key=lambda item: -item[1])[:top]\n",
    "\n",
    "        if threshold is not None:\n",
    "            result = list(filter(lambda elem: elem[1] > threshold, result))\n",
    "\n",
    "        return result\n",
    "\n",
    "    def make_query(\n",
    "        self,\n",
    "        query: str,\n",
    "        top: int = 5,\n",
    "        pooling: bool = False,\n",
    "        threshold: float | None = None,\n",
    "        weights={'bm_25': 0.5, 'embedding': 0.5},\n",
    "    ):\n",
    "        \"\"\"\n",
    "        возвращает спискок кортежей вида [(DataFrame_id: int, (score: float,)), ...]\n",
    "                                или вида [(КОД УСЛУГИ: str, (score: float, DataFrame_id: int)), ...]\n",
    "        \"\"\"\n",
    "        # проверяем веса\n",
    "        assert abs(sum(weights.values()) - 1) < 0.01, \"Сумма весов поисковиков должна быть равна 1\"\n",
    "\n",
    "        # получаем скоры поисковиков, умножаем на веса\n",
    "        if weights['bm_25'] == 0:\n",
    "            scores_bm_25 = {}\n",
    "\n",
    "            embed_result = self._embedding.make_query(query, top)\n",
    "            scores_embed = {dct['corpus_id']: dct['score'] * weights['embedding'] for dct in embed_result}\n",
    "\n",
    "        if weights['embedding'] == 0:\n",
    "            scores_embed = {}\n",
    "\n",
    "            bm_25_result = self._bm_25.make_query(query, top)\n",
    "            scores_bm_25 = {dct['corpus_id']: dct['score'] * weights['bm_25'] for dct in bm_25_result}\n",
    "\n",
    "        else:\n",
    "            bm_25_result = self._bm_25.make_query(query, top)\n",
    "            embed_result = self._embedding.make_query(query, top)\n",
    "\n",
    "            scores_bm_25 = {dct['corpus_id']: dct['score'] * weights['bm_25'] for dct in bm_25_result}\n",
    "            scores_embed = {dct['corpus_id']: dct['score'] * weights['embedding'] for dct in embed_result}\n",
    "\n",
    "        # объединяем результаты в требуемом формате\n",
    "        result = self._scores_merging(\n",
    "            scores_bm_25,\n",
    "            scores_embed,\n",
    "            top=top,\n",
    "            pooling=pooling,\n",
    "            threshold=threshold\n",
    "        )\n",
    "\n",
    "        return result"
   ]
  },
  {
   "cell_type": "code",
   "execution_count": 9,
   "id": "6d4b57c7-5bb3-4789-a55c-414aa5155ccd",
   "metadata": {},
   "outputs": [
    {
     "name": "stdout",
     "output_type": "stream",
     "text": [
      "device = device(type='cuda')\n"
     ]
    }
   ],
   "source": [
    "stopwords_path = '/home/darhanovev/stopwords/russian.txt'\n",
    "user_bge_dir = '/home/darhanovev/hugging_face/USER_bge_m3'\n",
    "\n",
    "device = torch.device(\"cuda\" if torch.cuda.is_available() else \"cpu\")\n",
    "print(f\"{device = }\")"
   ]
  },
  {
   "cell_type": "code",
   "execution_count": 10,
   "id": "a850f357-1049-4832-8612-7df72cdd5c23",
   "metadata": {},
   "outputs": [],
   "source": [
    "searcher = HybridSearch(stopwords_path, user_bge_dir, services_list, device, df)"
   ]
  },
  {
   "cell_type": "code",
   "execution_count": 11,
   "id": "5fae930f-c81d-4e63-ab28-aabac4221f2c",
   "metadata": {},
   "outputs": [
    {
     "data": {
      "text/plain": [
       "[(123, 0.998836025595665, 'ДОКУМЕНТ02'),\n",
       " (122, 0.8040881012672136, 'ДОКУМЕНТ02'),\n",
       " (121, 0.7231807991938206, 'ДОКУМЕНТ02'),\n",
       " (126, 0.6791983927464791, 'ДОКУМЕНТ03'),\n",
       " (120, 0.677221248192696, 'ДОКУМЕНТ01'),\n",
       " (129, 0.6712653721547432, 'ДОКУМЕНТ04'),\n",
       " (134, 0.6417069174168654, 'ДОКУМЕНТ05'),\n",
       " (141, 0.6383415695045745, 'ПЕНСИЯ02'),\n",
       " (133, 0.4441491365432739, 'ДОКУМЕНТ05'),\n",
       " (118, 0.435762420296669, 'ДОКУМЕНТ01')]"
      ]
     },
     "execution_count": 11,
     "metadata": {},
     "output_type": "execute_result"
    }
   ],
   "source": [
    "searcher.make_query(\n",
    "    'Дубликат пенсионного удостоверения от Военкомата',\n",
    "    top=10,\n",
    "    pooling=False,\n",
    "    weights={'bm_25': 0.5, 'embedding': 0.5}\n",
    ")"
   ]
  },
  {
   "cell_type": "code",
   "execution_count": 12,
   "id": "2718ea4f-cec7-4fa7-a60e-2d519b411bef",
   "metadata": {},
   "outputs": [
    {
     "data": {
      "text/plain": [
       "[(123, 0.998836025595665, 'ДОКУМЕНТ02'),\n",
       " (122, 0.8040881012672136, 'ДОКУМЕНТ02'),\n",
       " (121, 0.7231807991938206, 'ДОКУМЕНТ02')]"
      ]
     },
     "execution_count": 12,
     "metadata": {},
     "output_type": "execute_result"
    }
   ],
   "source": [
    "searcher.make_query(\n",
    "    'Дубликат пенсионного удостоверения от Военкомата',\n",
    "    top=10,\n",
    "    pooling=False,\n",
    "    threshold=0.7,\n",
    "    weights={'bm_25': 0.5, 'embedding': 0.5}\n",
    ")"
   ]
  },
  {
   "cell_type": "code",
   "execution_count": 13,
   "id": "87511759-55f1-4430-a27f-5e25d58b32fc",
   "metadata": {},
   "outputs": [
    {
     "data": {
      "text/plain": [
       "[(123, 0.998836025595665, 'ДОКУМЕНТ02'),\n",
       " (126, 0.6791983927464791, 'ДОКУМЕНТ03'),\n",
       " (120, 0.677221248192696, 'ДОКУМЕНТ01'),\n",
       " (129, 0.6712653721547432, 'ДОКУМЕНТ04'),\n",
       " (134, 0.6417069174168654, 'ДОКУМЕНТ05'),\n",
       " (141, 0.6383415695045745, 'ПЕНСИЯ02'),\n",
       " (145, 0.20735908134608136, 'ПЕНСИЯ03'),\n",
       " (151, 0.20735908134608136, 'ПЕНСИЯ04')]"
      ]
     },
     "execution_count": 13,
     "metadata": {},
     "output_type": "execute_result"
    }
   ],
   "source": [
    "searcher.make_query(\n",
    "    'Дубликат пенсионного удостоверения от Военкомата',\n",
    "    top=10,\n",
    "    pooling=True,\n",
    "    weights={'bm_25': 0.5, 'embedding': 0.5}\n",
    ")"
   ]
  },
  {
   "cell_type": "code",
   "execution_count": 14,
   "id": "2abe568d-aa1f-4b18-9823-07a6fe6a6deb",
   "metadata": {},
   "outputs": [
    {
     "data": {
      "text/plain": [
       "[(123, 0.998836025595665, 'ДОКУМЕНТ02')]"
      ]
     },
     "execution_count": 14,
     "metadata": {},
     "output_type": "execute_result"
    }
   ],
   "source": [
    "searcher.make_query(\n",
    "    'Дубликат пенсионного удостоверения от Военкомата',\n",
    "    top=10,\n",
    "    pooling=True,\n",
    "    threshold=0.7,\n",
    "    weights={'bm_25': 0.5, 'embedding': 0.5}\n",
    ")"
   ]
  },
  {
   "cell_type": "code",
   "execution_count": null,
   "id": "9e186922-79e4-4656-9dd1-5e5dafc0202b",
   "metadata": {
    "id": "9e186922-79e4-4656-9dd1-5e5dafc0202b"
   },
   "outputs": [],
   "source": []
  }
 ],
 "metadata": {
  "colab": {
   "collapsed_sections": [
    "62c8e9a1-259e-4be4-bb3b-698b74dd950b",
    "a8a4d64b-9b03-4e7a-8a9c-b91b97265e67"
   ],
   "provenance": []
  },
  "kernelspec": {
   "display_name": "Python 3.11",
   "language": "python",
   "name": "python3"
  },
  "language_info": {
   "codemirror_mode": {
    "name": "ipython",
    "version": 3
   },
   "file_extension": ".py",
   "mimetype": "text/x-python",
   "name": "python",
   "nbconvert_exporter": "python",
   "pygments_lexer": "ipython3",
   "version": "3.11.9"
  }
 },
 "nbformat": 4,
 "nbformat_minor": 5
}
